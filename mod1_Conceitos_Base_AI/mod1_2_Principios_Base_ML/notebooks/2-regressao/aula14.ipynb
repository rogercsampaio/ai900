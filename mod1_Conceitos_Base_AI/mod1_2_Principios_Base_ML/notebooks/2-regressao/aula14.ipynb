{
 "cells": [
  {
   "cell_type": "markdown",
   "metadata": {},
   "source": [
    "<h3> Regressão Linear </h3>"
   ]
  },
  {
   "cell_type": "markdown",
   "metadata": {},
   "source": [
    "Entendimento do Negócio </br>\n",
    "Prever o salário da pessoa com base na experiência em anos. Deverá ser construído um modelo preditivo de regressão."
   ]
  },
  {
   "cell_type": "markdown",
   "metadata": {},
   "source": [
    "Obtenção das Bases de Dados"
   ]
  },
  {
   "cell_type": "code",
   "execution_count": null,
   "metadata": {},
   "outputs": [],
   "source": [
    "# Importação de pacotes e bibliotecas\n",
    "import pandas as pd\n",
    "import matplotlib.pyplot as plt\n",
    "from sklearn.model_selection import train_test_split\n",
    "from sklearn.linear_model import LinearRegression\n",
    "from sklearn.metrics import mean_absolute_error, mean_absolute_percentage_error, mean_squared_error\n",
    "from sklearn.metrics import r2_score"
   ]
  },
  {
   "cell_type": "code",
   "execution_count": null,
   "metadata": {},
   "outputs": [],
   "source": [
    "# Leitura da Base de Dados\n",
    "url_base = 'https://github.com/ybifoundation/Dataset/raw/main/Salary%20Data.csv'\n",
    "try:\n",
    "    registros_anos_experiencias = pd.read_csv(url_base)\n",
    "except Exception as excecao:\n",
    "    print(f\"Erro ao ler os dados!\")\n",
    "    print(excecao)\n",
    "else:\n",
    "    print(f\"Dados lidos com sucesso. Dimensões {registros_anos_experiencias.shape}\")"
   ]
  },
  {
   "cell_type": "markdown",
   "metadata": {},
   "source": [
    "Análise Exploratória"
   ]
  },
  {
   "cell_type": "code",
   "execution_count": null,
   "metadata": {},
   "outputs": [],
   "source": [
    "registros_anos_experiencias.head(5)"
   ]
  },
  {
   "cell_type": "code",
   "execution_count": null,
   "metadata": {},
   "outputs": [],
   "source": [
    "# Exploração variável Experience Years\n",
    "registros_anos_experiencias['Experience Years'].describe()"
   ]
  },
  {
   "cell_type": "code",
   "execution_count": null,
   "metadata": {},
   "outputs": [],
   "source": [
    "plt.title('Distribuição de Experiência em Anos')\n",
    "plt.xlabel('Anos')\n",
    "plt.ylabel('Qtde de registros')\n",
    "plt.hist(registros_anos_experiencias['Experience Years'])\n",
    "plt.show() "
   ]
  },
  {
   "cell_type": "code",
   "execution_count": null,
   "metadata": {},
   "outputs": [],
   "source": [
    "print('Qtde de valores nulos')\n",
    "registros_anos_experiencias['Experience Years'].isnull().sum()"
   ]
  },
  {
   "cell_type": "code",
   "execution_count": null,
   "metadata": {},
   "outputs": [],
   "source": [
    "# Exploração variável Salary\n",
    "registros_anos_experiencias['Salary'].describe()"
   ]
  },
  {
   "cell_type": "code",
   "execution_count": null,
   "metadata": {},
   "outputs": [],
   "source": [
    "plt.title('Distribuição de Salary')\n",
    "plt.xlabel('Salary')\n",
    "plt.ylabel('Qtde de registros')\n",
    "plt.hist(registros_anos_experiencias['Salary'])\n",
    "plt.show() "
   ]
  },
  {
   "cell_type": "code",
   "execution_count": null,
   "metadata": {},
   "outputs": [],
   "source": [
    "print('Qtde de valores nulos')\n",
    "registros_anos_experiencias['Salary'].isnull().sum()"
   ]
  },
  {
   "cell_type": "code",
   "execution_count": null,
   "metadata": {},
   "outputs": [],
   "source": [
    "# Salário x Experiência em anos\n",
    "x = registros_anos_experiencias['Salary']\n",
    "y = registros_anos_experiencias['Experience Years']\n",
    "plt.title('Relação entre Experiência em Anos e Salário')\n",
    "plt.xlabel('Salário')\n",
    "plt.ylabel('Qtde de anos de experiência')\n",
    "plt.scatter(x, y)\n",
    "plt.show()"
   ]
  },
  {
   "cell_type": "code",
   "execution_count": null,
   "metadata": {},
   "outputs": [],
   "source": [
    "# Correlação de Pearson ou coeficiente de correlação. Mede a correlação linear entre DUAS VARIÁVEIS QUANTITATIVAS. Varia entre -1 a 1. \n",
    "# Não implica em causalidade. 0.7 por exemplo, indica, correlação forte entre ambas. 1.0 correlação perfeita. 0, não tem correlação. \n",
    "# -1 correlação negativa perfeita.\n",
    "print('Correlação entre variáveis: Experiência em Anos e Salário')\n",
    "registros_anos_experiencias[['Experience Years','Salary']].corr()"
   ]
  },
  {
   "cell_type": "markdown",
   "metadata": {},
   "source": [
    "Construção do Modelo Preditivo"
   ]
  },
  {
   "cell_type": "code",
   "execution_count": null,
   "metadata": {},
   "outputs": [],
   "source": [
    "X = registros_anos_experiencias['Experience Years']\n",
    "y = registros_anos_experiencias['Salary']             \n",
    "print('Recursos (X) e target(Y) criados')"
   ]
  },
  {
   "cell_type": "code",
   "execution_count": null,
   "metadata": {},
   "outputs": [],
   "source": [
    "print(X)   "
   ]
  },
  {
   "cell_type": "code",
   "execution_count": null,
   "metadata": {},
   "outputs": [],
   "source": [
    "print(y)   "
   ]
  },
  {
   "cell_type": "code",
   "execution_count": null,
   "metadata": {},
   "outputs": [],
   "source": [
    "X_train, X_test, y_train, y_test = train_test_split(X,y, train_size=0.7, random_state=7)"
   ]
  },
  {
   "cell_type": "code",
   "execution_count": null,
   "metadata": {},
   "outputs": [],
   "source": [
    "total = len(registros_anos_experiencias)\n",
    "print(f\"Qtde de dados para treino:  {len(X_train)}\")\n",
    "print(f\"% de dados para treino:  {len(X_train)/total * 100}\")\n",
    "\n",
    "print(f\"Qtde de dados para teste:  {len(X_test)}\")\n",
    "print(f\"% de dados para teste:  {len(X_test)/total * 100}\")"
   ]
  },
  {
   "cell_type": "code",
   "execution_count": null,
   "metadata": {},
   "outputs": [],
   "source": [
    "model = LinearRegression()\n",
    "model.fit(X_train,y_train)\n",
    "print(\"Modelo treinado com sucesso\")"
   ]
  },
  {
   "cell_type": "markdown",
   "metadata": {},
   "source": [
    "Avaliação do Modelo Preditivo"
   ]
  },
  {
   "cell_type": "code",
   "execution_count": null,
   "metadata": {},
   "outputs": [],
   "source": [
    "# Previsões\n",
    "y_pred = model.predict(X_test)\n",
    "print('Previsões efetuadas')"
   ]
  },
  {
   "cell_type": "code",
   "execution_count": null,
   "metadata": {},
   "outputs": [],
   "source": [
    "# Coeficientes do modelo\n",
    "model.intercept_"
   ]
  },
  {
   "cell_type": "code",
   "execution_count": null,
   "metadata": {},
   "outputs": [],
   "source": [
    "# Coeficientes do modelo\n",
    "model.coef_"
   ]
  },
  {
   "cell_type": "code",
   "execution_count": null,
   "metadata": {},
   "outputs": [],
   "source": [
    "# Erro Médio Absoluto (MAE)\n",
    "mean_absolute_error(y_test,y_pred)"
   ]
  },
  {
   "cell_type": "code",
   "execution_count": null,
   "metadata": {},
   "outputs": [],
   "source": [
    "# Erro quadrático médio (EQR)\n",
    "mean_squared_error(y_test,y_pred,squared=False)"
   ]
  },
  {
   "cell_type": "code",
   "execution_count": null,
   "metadata": {},
   "outputs": [],
   "source": [
    "# Raiz do Erro Quadrático Médio (REQR)\n",
    "mean_squared_error(y_test,y_pred,squared=True)"
   ]
  },
  {
   "cell_type": "code",
   "execution_count": null,
   "metadata": {},
   "outputs": [],
   "source": [
    "# Média percentual de erros (MAPE)\n",
    "mean_absolute_percentage_error(y_test,y_pred)"
   ]
  },
  {
   "cell_type": "code",
   "execution_count": null,
   "metadata": {},
   "outputs": [],
   "source": [
    "# Coeficiente de determinação\n",
    "r2_score(y_test, y_pred)"
   ]
  },
  {
   "cell_type": "code",
   "execution_count": null,
   "metadata": {},
   "outputs": [],
   "source": [
    "# Reta de regressão final\n",
    "plt.scatter(X_train, y_train,color='g')\n",
    "plt.plot(X_test, y_pred,color='k')\n",
    "plt.show()"
   ]
  }
 ],
 "metadata": {
  "kernelspec": {
   "display_name": "matching_amb",
   "language": "python",
   "name": "python3"
  },
  "language_info": {
   "codemirror_mode": {
    "name": "ipython",
    "version": 3
   },
   "file_extension": ".py",
   "mimetype": "text/x-python",
   "name": "python",
   "nbconvert_exporter": "python",
   "pygments_lexer": "ipython3",
   "version": "3.7.0"
  }
 },
 "nbformat": 4,
 "nbformat_minor": 2
}

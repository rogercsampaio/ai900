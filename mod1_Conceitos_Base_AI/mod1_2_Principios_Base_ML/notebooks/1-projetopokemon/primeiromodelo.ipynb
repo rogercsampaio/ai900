{
 "cells": [
  {
   "cell_type": "markdown",
   "id": "f96bbca0",
   "metadata": {},
   "source": [
    "<h2> Construindo nosso primeiro modelo preditivo </h2>"
   ]
  },
  {
   "cell_type": "markdown",
   "id": "354ce662",
   "metadata": {},
   "source": [
    "**1. Compreensão do negócio**"
   ]
  },
  {
   "cell_type": "markdown",
   "id": "97728b59",
   "metadata": {},
   "source": [
    "Prever o tipo do pokemon se baseado em suas características."
   ]
  },
  {
   "cell_type": "markdown",
   "id": "01378f38",
   "metadata": {},
   "source": [
    "**2. Obtenção das bases**"
   ]
  },
  {
   "cell_type": "code",
   "execution_count": 119,
   "id": "81c3b13d",
   "metadata": {},
   "outputs": [],
   "source": [
    "import pandas as pd\n",
    "import matplotlib.pyplot as plt\n",
    "from sklearn.model_selection import train_test_split\n",
    "from sklearn import tree\n",
    "from sklearn.metrics import classification_report"
   ]
  },
  {
   "cell_type": "code",
   "execution_count": 103,
   "id": "99138d0b",
   "metadata": {},
   "outputs": [],
   "source": [
    "pokemons = pd.read_csv(\"bases/Pokemon.csv\")"
   ]
  },
  {
   "cell_type": "markdown",
   "id": "2b850741",
   "metadata": {},
   "source": [
    "**3. Análise Exploratória**"
   ]
  },
  {
   "cell_type": "code",
   "execution_count": 3,
   "id": "9c743f64",
   "metadata": {},
   "outputs": [
    {
     "name": "stdout",
     "output_type": "stream",
     "text": [
      "Qtde de linhas: 800\n",
      "Qtde de colunas :13\n",
      "Shape :(800, 13)\n"
     ]
    }
   ],
   "source": [
    "print(f\"Qtde de linhas: {len(pokemons)}\")\n",
    "print(f\"Qtde de colunas :{len(pokemons.columns)}\")\n",
    "print(f\"Shape :{pokemons.shape}\")"
   ]
  },
  {
   "cell_type": "code",
   "execution_count": 4,
   "id": "23fa0950",
   "metadata": {},
   "outputs": [
    {
     "data": {
      "text/html": [
       "<div>\n",
       "<style scoped>\n",
       "    .dataframe tbody tr th:only-of-type {\n",
       "        vertical-align: middle;\n",
       "    }\n",
       "\n",
       "    .dataframe tbody tr th {\n",
       "        vertical-align: top;\n",
       "    }\n",
       "\n",
       "    .dataframe thead th {\n",
       "        text-align: right;\n",
       "    }\n",
       "</style>\n",
       "<table border=\"1\" class=\"dataframe\">\n",
       "  <thead>\n",
       "    <tr style=\"text-align: right;\">\n",
       "      <th></th>\n",
       "      <th>#</th>\n",
       "      <th>Name</th>\n",
       "      <th>Type 1</th>\n",
       "      <th>Type 2</th>\n",
       "      <th>Total</th>\n",
       "      <th>HP</th>\n",
       "      <th>Attack</th>\n",
       "      <th>Defense</th>\n",
       "      <th>Sp. Atk</th>\n",
       "      <th>Sp. Def</th>\n",
       "      <th>Speed</th>\n",
       "      <th>Generation</th>\n",
       "      <th>Legendary</th>\n",
       "    </tr>\n",
       "  </thead>\n",
       "  <tbody>\n",
       "    <tr>\n",
       "      <th>0</th>\n",
       "      <td>1</td>\n",
       "      <td>Bulbasaur</td>\n",
       "      <td>Grass</td>\n",
       "      <td>Poison</td>\n",
       "      <td>318</td>\n",
       "      <td>45</td>\n",
       "      <td>49</td>\n",
       "      <td>49</td>\n",
       "      <td>65</td>\n",
       "      <td>65</td>\n",
       "      <td>45</td>\n",
       "      <td>1</td>\n",
       "      <td>False</td>\n",
       "    </tr>\n",
       "    <tr>\n",
       "      <th>1</th>\n",
       "      <td>2</td>\n",
       "      <td>Ivysaur</td>\n",
       "      <td>Grass</td>\n",
       "      <td>Poison</td>\n",
       "      <td>405</td>\n",
       "      <td>60</td>\n",
       "      <td>62</td>\n",
       "      <td>63</td>\n",
       "      <td>80</td>\n",
       "      <td>80</td>\n",
       "      <td>60</td>\n",
       "      <td>1</td>\n",
       "      <td>False</td>\n",
       "    </tr>\n",
       "    <tr>\n",
       "      <th>2</th>\n",
       "      <td>3</td>\n",
       "      <td>Venusaur</td>\n",
       "      <td>Grass</td>\n",
       "      <td>Poison</td>\n",
       "      <td>525</td>\n",
       "      <td>80</td>\n",
       "      <td>82</td>\n",
       "      <td>83</td>\n",
       "      <td>100</td>\n",
       "      <td>100</td>\n",
       "      <td>80</td>\n",
       "      <td>1</td>\n",
       "      <td>False</td>\n",
       "    </tr>\n",
       "    <tr>\n",
       "      <th>3</th>\n",
       "      <td>3</td>\n",
       "      <td>VenusaurMega Venusaur</td>\n",
       "      <td>Grass</td>\n",
       "      <td>Poison</td>\n",
       "      <td>625</td>\n",
       "      <td>80</td>\n",
       "      <td>100</td>\n",
       "      <td>123</td>\n",
       "      <td>122</td>\n",
       "      <td>120</td>\n",
       "      <td>80</td>\n",
       "      <td>1</td>\n",
       "      <td>False</td>\n",
       "    </tr>\n",
       "    <tr>\n",
       "      <th>4</th>\n",
       "      <td>4</td>\n",
       "      <td>Charmander</td>\n",
       "      <td>Fire</td>\n",
       "      <td>NaN</td>\n",
       "      <td>309</td>\n",
       "      <td>39</td>\n",
       "      <td>52</td>\n",
       "      <td>43</td>\n",
       "      <td>60</td>\n",
       "      <td>50</td>\n",
       "      <td>65</td>\n",
       "      <td>1</td>\n",
       "      <td>False</td>\n",
       "    </tr>\n",
       "  </tbody>\n",
       "</table>\n",
       "</div>"
      ],
      "text/plain": [
       "   #                   Name Type 1  Type 2  Total  HP  Attack  Defense  \\\n",
       "0  1              Bulbasaur  Grass  Poison    318  45      49       49   \n",
       "1  2                Ivysaur  Grass  Poison    405  60      62       63   \n",
       "2  3               Venusaur  Grass  Poison    525  80      82       83   \n",
       "3  3  VenusaurMega Venusaur  Grass  Poison    625  80     100      123   \n",
       "4  4             Charmander   Fire     NaN    309  39      52       43   \n",
       "\n",
       "   Sp. Atk  Sp. Def  Speed  Generation  Legendary  \n",
       "0       65       65     45           1      False  \n",
       "1       80       80     60           1      False  \n",
       "2      100      100     80           1      False  \n",
       "3      122      120     80           1      False  \n",
       "4       60       50     65           1      False  "
      ]
     },
     "execution_count": 4,
     "metadata": {},
     "output_type": "execute_result"
    }
   ],
   "source": [
    "pokemons.head(5)"
   ]
  },
  {
   "cell_type": "markdown",
   "id": "0dbe39de",
   "metadata": {},
   "source": [
    "3.1 Explorando o tipo 1"
   ]
  },
  {
   "cell_type": "code",
   "execution_count": 5,
   "id": "010f3b06",
   "metadata": {},
   "outputs": [
    {
     "data": {
      "text/plain": [
       "0    Grass\n",
       "1    Grass\n",
       "2    Grass\n",
       "3    Grass\n",
       "4     Fire\n",
       "Name: Type 1, dtype: object"
      ]
     },
     "execution_count": 5,
     "metadata": {},
     "output_type": "execute_result"
    }
   ],
   "source": [
    "# Visualizando alguns registros\n",
    "# Note que é uma variável QUALITATIVA (CATEGÓRICA)\n",
    "pokemons['Type 1'].head(5)"
   ]
  },
  {
   "cell_type": "code",
   "execution_count": 6,
   "id": "e1c1c562",
   "metadata": {},
   "outputs": [
    {
     "data": {
      "text/plain": [
       "Type 1\n",
       "Water       112\n",
       "Normal       98\n",
       "Grass        70\n",
       "Bug          69\n",
       "Psychic      57\n",
       "Fire         52\n",
       "Electric     44\n",
       "Rock         44\n",
       "Dragon       32\n",
       "Ground       32\n",
       "Ghost        32\n",
       "Dark         31\n",
       "Poison       28\n",
       "Steel        27\n",
       "Fighting     27\n",
       "Ice          24\n",
       "Fairy        17\n",
       "Flying        4\n",
       "Name: count, dtype: int64"
      ]
     },
     "execution_count": 6,
     "metadata": {},
     "output_type": "execute_result"
    }
   ],
   "source": [
    "# Contagem por registros\n",
    "pokemons['Type 1'].value_counts()"
   ]
  },
  {
   "cell_type": "code",
   "execution_count": 8,
   "id": "37954ac8",
   "metadata": {},
   "outputs": [
    {
     "name": "stdout",
     "output_type": "stream",
     "text": [
      "Qtde de tipos 1 únicos existentes:  18\n"
     ]
    }
   ],
   "source": [
    "# Verificando quantos tipos distintos existem?\n",
    "print('Qtde de tipos 1 únicos existentes: ',len(pokemons['Type 1'].unique()))"
   ]
  },
  {
   "cell_type": "code",
   "execution_count": 15,
   "id": "a958234b",
   "metadata": {},
   "outputs": [
    {
     "data": {
      "text/plain": [
       "Type 1\n",
       "Bug          69\n",
       "Dark         31\n",
       "Dragon       32\n",
       "Electric     44\n",
       "Fairy        17\n",
       "Fighting     27\n",
       "Fire         52\n",
       "Flying        4\n",
       "Ghost        32\n",
       "Grass        70\n",
       "Ground       32\n",
       "Ice          24\n",
       "Normal       98\n",
       "Poison       28\n",
       "Psychic      57\n",
       "Rock         44\n",
       "Steel        27\n",
       "Water       112\n",
       "Name: #, dtype: int64"
      ]
     },
     "execution_count": 15,
     "metadata": {},
     "output_type": "execute_result"
    }
   ],
   "source": [
    "agrupamento_tipo = pokemons.groupby(\"Type 1\").count()['#']\n",
    "agrupamento_tipo"
   ]
  },
  {
   "cell_type": "code",
   "execution_count": 18,
   "id": "a4e6db2a",
   "metadata": {},
   "outputs": [
    {
     "data": {
      "image/png": "[encoded data removed]",
      "text/plain": [
       "<Figure size 640x480 with 1 Axes>"
      ]
     },
     "metadata": {},
     "output_type": "display_data"
    }
   ],
   "source": [
    "plt.title('Contagem de pokemons por tipos')\n",
    "plt.bar(agrupamento_tipo.index,agrupamento_tipo)\n",
    "plt.xticks(rotation=90)\n",
    "plt.show()"
   ]
  },
  {
   "cell_type": "markdown",
   "id": "abaf87a6",
   "metadata": {},
   "source": [
    "3.2 Explorando o Total"
   ]
  },
  {
   "cell_type": "code",
   "execution_count": 19,
   "id": "f60e58d6",
   "metadata": {},
   "outputs": [
    {
     "data": {
      "text/plain": [
       "count    800.00000\n",
       "mean     435.10250\n",
       "std      119.96304\n",
       "min      180.00000\n",
       "25%      330.00000\n",
       "50%      450.00000\n",
       "75%      515.00000\n",
       "max      780.00000\n",
       "Name: Total, dtype: float64"
      ]
     },
     "execution_count": 19,
     "metadata": {},
     "output_type": "execute_result"
    }
   ],
   "source": [
    "# Note que é uma variável QUANTITATIVA\n",
    "pokemons['Total'].describe()"
   ]
  },
  {
   "cell_type": "code",
   "execution_count": 20,
   "id": "292440c1",
   "metadata": {},
   "outputs": [
    {
     "data": {
      "text/html": [
       "<div>\n",
       "<style scoped>\n",
       "    .dataframe tbody tr th:only-of-type {\n",
       "        vertical-align: middle;\n",
       "    }\n",
       "\n",
       "    .dataframe tbody tr th {\n",
       "        vertical-align: top;\n",
       "    }\n",
       "\n",
       "    .dataframe thead th {\n",
       "        text-align: right;\n",
       "    }\n",
       "</style>\n",
       "<table border=\"1\" class=\"dataframe\">\n",
       "  <thead>\n",
       "    <tr style=\"text-align: right;\">\n",
       "      <th></th>\n",
       "      <th>Name</th>\n",
       "      <th>Total</th>\n",
       "    </tr>\n",
       "  </thead>\n",
       "  <tbody>\n",
       "    <tr>\n",
       "      <th>0</th>\n",
       "      <td>Bulbasaur</td>\n",
       "      <td>318</td>\n",
       "    </tr>\n",
       "    <tr>\n",
       "      <th>1</th>\n",
       "      <td>Ivysaur</td>\n",
       "      <td>405</td>\n",
       "    </tr>\n",
       "    <tr>\n",
       "      <th>2</th>\n",
       "      <td>Venusaur</td>\n",
       "      <td>525</td>\n",
       "    </tr>\n",
       "    <tr>\n",
       "      <th>3</th>\n",
       "      <td>VenusaurMega Venusaur</td>\n",
       "      <td>625</td>\n",
       "    </tr>\n",
       "    <tr>\n",
       "      <th>4</th>\n",
       "      <td>Charmander</td>\n",
       "      <td>309</td>\n",
       "    </tr>\n",
       "  </tbody>\n",
       "</table>\n",
       "</div>"
      ],
      "text/plain": [
       "                    Name  Total\n",
       "0              Bulbasaur    318\n",
       "1                Ivysaur    405\n",
       "2               Venusaur    525\n",
       "3  VenusaurMega Venusaur    625\n",
       "4             Charmander    309"
      ]
     },
     "execution_count": 20,
     "metadata": {},
     "output_type": "execute_result"
    }
   ],
   "source": [
    "pokemons[['Name','Total']].head(5)"
   ]
  },
  {
   "cell_type": "markdown",
   "id": "75486075",
   "metadata": {},
   "source": [
    "2.3.4 Explorando o HP"
   ]
  },
  {
   "cell_type": "code",
   "execution_count": 21,
   "id": "d9b45ed7",
   "metadata": {},
   "outputs": [
    {
     "data": {
      "text/plain": [
       "count    800.000000\n",
       "mean      69.258750\n",
       "std       25.534669\n",
       "min        1.000000\n",
       "25%       50.000000\n",
       "50%       65.000000\n",
       "75%       80.000000\n",
       "max      255.000000\n",
       "Name: HP, dtype: float64"
      ]
     },
     "execution_count": 21,
     "metadata": {},
     "output_type": "execute_result"
    }
   ],
   "source": [
    "# Note que é uma variável QUANTITATIVA\n",
    "pokemons['HP'].describe()"
   ]
  },
  {
   "cell_type": "code",
   "execution_count": 22,
   "id": "458ef3e7",
   "metadata": {},
   "outputs": [
    {
     "data": {
      "text/html": [
       "<div>\n",
       "<style scoped>\n",
       "    .dataframe tbody tr th:only-of-type {\n",
       "        vertical-align: middle;\n",
       "    }\n",
       "\n",
       "    .dataframe tbody tr th {\n",
       "        vertical-align: top;\n",
       "    }\n",
       "\n",
       "    .dataframe thead th {\n",
       "        text-align: right;\n",
       "    }\n",
       "</style>\n",
       "<table border=\"1\" class=\"dataframe\">\n",
       "  <thead>\n",
       "    <tr style=\"text-align: right;\">\n",
       "      <th></th>\n",
       "      <th>Name</th>\n",
       "      <th>HP</th>\n",
       "    </tr>\n",
       "  </thead>\n",
       "  <tbody>\n",
       "    <tr>\n",
       "      <th>795</th>\n",
       "      <td>Diancie</td>\n",
       "      <td>50</td>\n",
       "    </tr>\n",
       "    <tr>\n",
       "      <th>796</th>\n",
       "      <td>DiancieMega Diancie</td>\n",
       "      <td>50</td>\n",
       "    </tr>\n",
       "    <tr>\n",
       "      <th>797</th>\n",
       "      <td>HoopaHoopa Confined</td>\n",
       "      <td>80</td>\n",
       "    </tr>\n",
       "    <tr>\n",
       "      <th>798</th>\n",
       "      <td>HoopaHoopa Unbound</td>\n",
       "      <td>80</td>\n",
       "    </tr>\n",
       "    <tr>\n",
       "      <th>799</th>\n",
       "      <td>Volcanion</td>\n",
       "      <td>80</td>\n",
       "    </tr>\n",
       "  </tbody>\n",
       "</table>\n",
       "</div>"
      ],
      "text/plain": [
       "                    Name  HP\n",
       "795              Diancie  50\n",
       "796  DiancieMega Diancie  50\n",
       "797  HoopaHoopa Confined  80\n",
       "798   HoopaHoopa Unbound  80\n",
       "799            Volcanion  80"
      ]
     },
     "execution_count": 22,
     "metadata": {},
     "output_type": "execute_result"
    }
   ],
   "source": [
    "# Visualizando os últimos cinco registros\n",
    "pokemons[['Name','HP']].tail(5)"
   ]
  },
  {
   "cell_type": "markdown",
   "id": "16cf3290",
   "metadata": {},
   "source": [
    "2.3.4 Explorando o Attack"
   ]
  },
  {
   "cell_type": "code",
   "execution_count": 27,
   "id": "7ad90d1f",
   "metadata": {},
   "outputs": [
    {
     "data": {
      "text/plain": [
       "count    800.000000\n",
       "mean      79.001250\n",
       "std       32.457366\n",
       "min        5.000000\n",
       "25%       55.000000\n",
       "50%       75.000000\n",
       "75%      100.000000\n",
       "max      190.000000\n",
       "Name: Attack, dtype: float64"
      ]
     },
     "execution_count": 27,
     "metadata": {},
     "output_type": "execute_result"
    }
   ],
   "source": [
    "pokemons['Attack'].describe()"
   ]
  },
  {
   "cell_type": "code",
   "execution_count": 28,
   "id": "da3f38f8",
   "metadata": {},
   "outputs": [
    {
     "data": {
      "text/html": [
       "<div>\n",
       "<style scoped>\n",
       "    .dataframe tbody tr th:only-of-type {\n",
       "        vertical-align: middle;\n",
       "    }\n",
       "\n",
       "    .dataframe tbody tr th {\n",
       "        vertical-align: top;\n",
       "    }\n",
       "\n",
       "    .dataframe thead th {\n",
       "        text-align: right;\n",
       "    }\n",
       "</style>\n",
       "<table border=\"1\" class=\"dataframe\">\n",
       "  <thead>\n",
       "    <tr style=\"text-align: right;\">\n",
       "      <th></th>\n",
       "      <th>Name</th>\n",
       "      <th>Attack</th>\n",
       "    </tr>\n",
       "  </thead>\n",
       "  <tbody>\n",
       "    <tr>\n",
       "      <th>795</th>\n",
       "      <td>Diancie</td>\n",
       "      <td>100</td>\n",
       "    </tr>\n",
       "    <tr>\n",
       "      <th>796</th>\n",
       "      <td>DiancieMega Diancie</td>\n",
       "      <td>160</td>\n",
       "    </tr>\n",
       "    <tr>\n",
       "      <th>797</th>\n",
       "      <td>HoopaHoopa Confined</td>\n",
       "      <td>110</td>\n",
       "    </tr>\n",
       "    <tr>\n",
       "      <th>798</th>\n",
       "      <td>HoopaHoopa Unbound</td>\n",
       "      <td>160</td>\n",
       "    </tr>\n",
       "    <tr>\n",
       "      <th>799</th>\n",
       "      <td>Volcanion</td>\n",
       "      <td>110</td>\n",
       "    </tr>\n",
       "  </tbody>\n",
       "</table>\n",
       "</div>"
      ],
      "text/plain": [
       "                    Name  Attack\n",
       "795              Diancie     100\n",
       "796  DiancieMega Diancie     160\n",
       "797  HoopaHoopa Confined     110\n",
       "798   HoopaHoopa Unbound     160\n",
       "799            Volcanion     110"
      ]
     },
     "execution_count": 28,
     "metadata": {},
     "output_type": "execute_result"
    }
   ],
   "source": [
    "# Visualizando os últimos cinco registros\n",
    "pokemons[['Name','Attack']].tail(5)"
   ]
  },
  {
   "cell_type": "code",
   "execution_count": 104,
   "id": "0c7be47d",
   "metadata": {},
   "outputs": [
    {
     "name": "stdout",
     "output_type": "stream",
     "text": [
      " === Conjunto de dados limpo === \n",
      "Qtde de linhas: 414\n",
      "Qtde de colunas :13\n",
      "Shape :(414, 13)\n",
      "=======================================\n",
      " === Conjunto de dados original === \n",
      "Qtde de linhas: 800\n",
      "Qtde de colunas :13\n",
      "Shape :(800, 13)\n"
     ]
    }
   ],
   "source": [
    "# Limpeza nos dados, eliminando valores ausentes\n",
    "pokemons_limpo = pokemons.dropna()\n",
    "print(\" === Conjunto de dados limpo === \")\n",
    "print(f\"Qtde de linhas: {len(pokemons_limpo)}\")\n",
    "print(f\"Qtde de colunas :{len(pokemons_limpo.columns)}\")\n",
    "print(f\"Shape :{pokemons_limpo.shape}\")\n",
    "print(\"=======================================\")\n",
    "print(\" === Conjunto de dados original === \")\n",
    "print(f\"Qtde de linhas: {len(pokemons)}\")\n",
    "print(f\"Qtde de colunas :{len(pokemons.columns)}\")\n",
    "print(f\"Shape :{pokemons.shape}\")"
   ]
  },
  {
   "cell_type": "markdown",
   "id": "f060972b",
   "metadata": {},
   "source": [
    "**3. Construção do modelo**"
   ]
  },
  {
   "cell_type": "code",
   "execution_count": 30,
   "id": "6f24ff93",
   "metadata": {},
   "outputs": [
    {
     "data": {
      "text/plain": [
       "Index(['#', 'Name', 'Type 1', 'Type 2', 'Total', 'HP', 'Attack', 'Defense',\n",
       "       'Sp. Atk', 'Sp. Def', 'Speed', 'Generation', 'Legendary'],\n",
       "      dtype='object')"
      ]
     },
     "execution_count": 30,
     "metadata": {},
     "output_type": "execute_result"
    }
   ],
   "source": [
    "pokemons_limpo.columns"
   ]
  },
  {
   "cell_type": "markdown",
   "id": "731cf0bc",
   "metadata": {},
   "source": [
    "3.1 Definindo os recursos (X) e a variável rótulo (Y)"
   ]
  },
  {
   "cell_type": "code",
   "execution_count": 105,
   "id": "98e203c5",
   "metadata": {},
   "outputs": [],
   "source": [
    "recursos = pokemons_limpo[['HP','Attack','Defense','Sp. Atk','Sp. Def']]\n",
    "rotulo = pokemons_limpo['Type 1']"
   ]
  },
  {
   "cell_type": "code",
   "execution_count": 33,
   "id": "1d98a85b",
   "metadata": {},
   "outputs": [
    {
     "data": {
      "text/html": [
       "<div>\n",
       "<style scoped>\n",
       "    .dataframe tbody tr th:only-of-type {\n",
       "        vertical-align: middle;\n",
       "    }\n",
       "\n",
       "    .dataframe tbody tr th {\n",
       "        vertical-align: top;\n",
       "    }\n",
       "\n",
       "    .dataframe thead th {\n",
       "        text-align: right;\n",
       "    }\n",
       "</style>\n",
       "<table border=\"1\" class=\"dataframe\">\n",
       "  <thead>\n",
       "    <tr style=\"text-align: right;\">\n",
       "      <th></th>\n",
       "      <th>HP</th>\n",
       "      <th>Attack</th>\n",
       "      <th>Defense</th>\n",
       "      <th>Sp. Atk</th>\n",
       "      <th>Sp. Def</th>\n",
       "    </tr>\n",
       "  </thead>\n",
       "  <tbody>\n",
       "    <tr>\n",
       "      <th>0</th>\n",
       "      <td>45</td>\n",
       "      <td>49</td>\n",
       "      <td>49</td>\n",
       "      <td>65</td>\n",
       "      <td>65</td>\n",
       "    </tr>\n",
       "    <tr>\n",
       "      <th>1</th>\n",
       "      <td>60</td>\n",
       "      <td>62</td>\n",
       "      <td>63</td>\n",
       "      <td>80</td>\n",
       "      <td>80</td>\n",
       "    </tr>\n",
       "    <tr>\n",
       "      <th>2</th>\n",
       "      <td>80</td>\n",
       "      <td>82</td>\n",
       "      <td>83</td>\n",
       "      <td>100</td>\n",
       "      <td>100</td>\n",
       "    </tr>\n",
       "    <tr>\n",
       "      <th>3</th>\n",
       "      <td>80</td>\n",
       "      <td>100</td>\n",
       "      <td>123</td>\n",
       "      <td>122</td>\n",
       "      <td>120</td>\n",
       "    </tr>\n",
       "    <tr>\n",
       "      <th>6</th>\n",
       "      <td>78</td>\n",
       "      <td>84</td>\n",
       "      <td>78</td>\n",
       "      <td>109</td>\n",
       "      <td>85</td>\n",
       "    </tr>\n",
       "    <tr>\n",
       "      <th>...</th>\n",
       "      <td>...</td>\n",
       "      <td>...</td>\n",
       "      <td>...</td>\n",
       "      <td>...</td>\n",
       "      <td>...</td>\n",
       "    </tr>\n",
       "    <tr>\n",
       "      <th>795</th>\n",
       "      <td>50</td>\n",
       "      <td>100</td>\n",
       "      <td>150</td>\n",
       "      <td>100</td>\n",
       "      <td>150</td>\n",
       "    </tr>\n",
       "    <tr>\n",
       "      <th>796</th>\n",
       "      <td>50</td>\n",
       "      <td>160</td>\n",
       "      <td>110</td>\n",
       "      <td>160</td>\n",
       "      <td>110</td>\n",
       "    </tr>\n",
       "    <tr>\n",
       "      <th>797</th>\n",
       "      <td>80</td>\n",
       "      <td>110</td>\n",
       "      <td>60</td>\n",
       "      <td>150</td>\n",
       "      <td>130</td>\n",
       "    </tr>\n",
       "    <tr>\n",
       "      <th>798</th>\n",
       "      <td>80</td>\n",
       "      <td>160</td>\n",
       "      <td>60</td>\n",
       "      <td>170</td>\n",
       "      <td>130</td>\n",
       "    </tr>\n",
       "    <tr>\n",
       "      <th>799</th>\n",
       "      <td>80</td>\n",
       "      <td>110</td>\n",
       "      <td>120</td>\n",
       "      <td>130</td>\n",
       "      <td>90</td>\n",
       "    </tr>\n",
       "  </tbody>\n",
       "</table>\n",
       "<p>414 rows × 5 columns</p>\n",
       "</div>"
      ],
      "text/plain": [
       "     HP  Attack  Defense  Sp. Atk  Sp. Def\n",
       "0    45      49       49       65       65\n",
       "1    60      62       63       80       80\n",
       "2    80      82       83      100      100\n",
       "3    80     100      123      122      120\n",
       "6    78      84       78      109       85\n",
       "..   ..     ...      ...      ...      ...\n",
       "795  50     100      150      100      150\n",
       "796  50     160      110      160      110\n",
       "797  80     110       60      150      130\n",
       "798  80     160       60      170      130\n",
       "799  80     110      120      130       90\n",
       "\n",
       "[414 rows x 5 columns]"
      ]
     },
     "execution_count": 33,
     "metadata": {},
     "output_type": "execute_result"
    }
   ],
   "source": [
    "recursos"
   ]
  },
  {
   "cell_type": "code",
   "execution_count": 34,
   "id": "0067ec23",
   "metadata": {},
   "outputs": [
    {
     "data": {
      "text/plain": [
       "0        Grass\n",
       "1        Grass\n",
       "2        Grass\n",
       "3        Grass\n",
       "6         Fire\n",
       "        ...   \n",
       "795       Rock\n",
       "796       Rock\n",
       "797    Psychic\n",
       "798    Psychic\n",
       "799       Fire\n",
       "Name: Type 1, Length: 414, dtype: object"
      ]
     },
     "execution_count": 34,
     "metadata": {},
     "output_type": "execute_result"
    }
   ],
   "source": [
    "rotulo"
   ]
  },
  {
   "cell_type": "markdown",
   "id": "f5cf2538",
   "metadata": {},
   "source": [
    "3.2 Definição do Treino e Teste"
   ]
  },
  {
   "cell_type": "code",
   "execution_count": 106,
   "id": "ec8b7e17",
   "metadata": {},
   "outputs": [],
   "source": [
    "X_train, X_test, y_train, y_test = train_test_split(recursos, rotulo, test_size=0.33, random_state=42)"
   ]
  },
  {
   "cell_type": "markdown",
   "id": "c413294e",
   "metadata": {},
   "source": [
    "3.3 Treinamento do Modelo"
   ]
  },
  {
   "cell_type": "code",
   "execution_count": 107,
   "id": "4d02a019",
   "metadata": {},
   "outputs": [
    {
     "name": "stdout",
     "output_type": "stream",
     "text": [
      "Modelo treinado\n"
     ]
    }
   ],
   "source": [
    "clf = tree.DecisionTreeClassifier()\n",
    "clf = clf.fit(X_train, y_train)\n",
    "print('Modelo treinado')"
   ]
  },
  {
   "cell_type": "markdown",
   "id": "a20dfd5e",
   "metadata": {},
   "source": [
    "3.4 Inferências (Previsões)"
   ]
  },
  {
   "cell_type": "code",
   "execution_count": 108,
   "id": "e7cf9aeb",
   "metadata": {},
   "outputs": [
    {
     "name": "stdout",
     "output_type": "stream",
     "text": [
      "Previsões efetuadas\n",
      "Qtde de previsões efetuadas 137\n"
     ]
    },
    {
     "data": {
      "text/plain": [
       "array(['Steel', 'Electric', 'Grass', 'Ghost', 'Grass', 'Dragon', 'Water',\n",
       "       'Water', 'Ground', 'Steel', 'Dark', 'Dragon', 'Steel', 'Fairy',\n",
       "       'Dark', 'Rock', 'Electric', 'Psychic', 'Grass', 'Ghost', 'Poison',\n",
       "       'Water', 'Normal', 'Dark', 'Bug', 'Poison', 'Psychic', 'Grass',\n",
       "       'Water', 'Bug', 'Grass', 'Fairy', 'Steel', 'Water', 'Bug',\n",
       "       'Normal', 'Dark', 'Electric', 'Rock', 'Dragon', 'Electric',\n",
       "       'Steel', 'Water', 'Normal', 'Electric', 'Dragon', 'Electric',\n",
       "       'Bug', 'Electric', 'Water', 'Rock', 'Steel', 'Ghost', 'Electric',\n",
       "       'Rock', 'Grass', 'Fire', 'Bug', 'Dragon', 'Bug', 'Poison', 'Grass',\n",
       "       'Water', 'Dragon', 'Ghost', 'Psychic', 'Normal', 'Ground', 'Water',\n",
       "       'Water', 'Normal', 'Rock', 'Normal', 'Rock', 'Ground', 'Bug',\n",
       "       'Dark', 'Water', 'Water', 'Poison', 'Water', 'Rock', 'Water',\n",
       "       'Fairy', 'Normal', 'Grass', 'Poison', 'Ground', 'Psychic', 'Steel',\n",
       "       'Bug', 'Ghost', 'Dragon', 'Bug', 'Ground', 'Steel', 'Ghost',\n",
       "       'Grass', 'Psychic', 'Bug', 'Dark', 'Bug', 'Bug', 'Dragon', 'Fire',\n",
       "       'Psychic', 'Fire', 'Steel', 'Psychic', 'Dragon', 'Steel', 'Grass',\n",
       "       'Ghost', 'Bug', 'Ghost', 'Ghost', 'Steel', 'Bug', 'Rock', 'Dark',\n",
       "       'Steel', 'Normal', 'Normal', 'Ice', 'Steel', 'Ice', 'Bug',\n",
       "       'Normal', 'Bug', 'Dark', 'Normal', 'Water', 'Bug', 'Normal', 'Bug',\n",
       "       'Dragon', 'Water'], dtype=object)"
      ]
     },
     "execution_count": 108,
     "metadata": {},
     "output_type": "execute_result"
    }
   ],
   "source": [
    "previsoes = clf.predict(X_test)\n",
    "print('Previsões efetuadas')\n",
    "print('Qtde de previsões efetuadas',len(previsoes))\n",
    "previsoes"
   ]
  },
  {
   "cell_type": "code",
   "execution_count": 109,
   "id": "2207b266",
   "metadata": {},
   "outputs": [
    {
     "data": {
      "text/html": [
       "<div>\n",
       "<style scoped>\n",
       "    .dataframe tbody tr th:only-of-type {\n",
       "        vertical-align: middle;\n",
       "    }\n",
       "\n",
       "    .dataframe tbody tr th {\n",
       "        vertical-align: top;\n",
       "    }\n",
       "\n",
       "    .dataframe thead th {\n",
       "        text-align: right;\n",
       "    }\n",
       "</style>\n",
       "<table border=\"1\" class=\"dataframe\">\n",
       "  <thead>\n",
       "    <tr style=\"text-align: right;\">\n",
       "      <th></th>\n",
       "      <th>HP</th>\n",
       "      <th>Attack</th>\n",
       "      <th>Defense</th>\n",
       "      <th>Sp. Atk</th>\n",
       "      <th>Sp. Def</th>\n",
       "    </tr>\n",
       "  </thead>\n",
       "  <tbody>\n",
       "    <tr>\n",
       "      <th>712</th>\n",
       "      <td>125</td>\n",
       "      <td>120</td>\n",
       "      <td>90</td>\n",
       "      <td>170</td>\n",
       "      <td>100</td>\n",
       "    </tr>\n",
       "    <tr>\n",
       "      <th>704</th>\n",
       "      <td>79</td>\n",
       "      <td>115</td>\n",
       "      <td>70</td>\n",
       "      <td>125</td>\n",
       "      <td>80</td>\n",
       "    </tr>\n",
       "    <tr>\n",
       "      <th>736</th>\n",
       "      <td>86</td>\n",
       "      <td>68</td>\n",
       "      <td>72</td>\n",
       "      <td>109</td>\n",
       "      <td>66</td>\n",
       "    </tr>\n",
       "    <tr>\n",
       "      <th>782</th>\n",
       "      <td>54</td>\n",
       "      <td>66</td>\n",
       "      <td>70</td>\n",
       "      <td>44</td>\n",
       "      <td>55</td>\n",
       "    </tr>\n",
       "    <tr>\n",
       "      <th>730</th>\n",
       "      <td>62</td>\n",
       "      <td>73</td>\n",
       "      <td>55</td>\n",
       "      <td>56</td>\n",
       "      <td>52</td>\n",
       "    </tr>\n",
       "    <tr>\n",
       "      <th>...</th>\n",
       "      <td>...</td>\n",
       "      <td>...</td>\n",
       "      <td>...</td>\n",
       "      <td>...</td>\n",
       "      <td>...</td>\n",
       "    </tr>\n",
       "    <tr>\n",
       "      <th>297</th>\n",
       "      <td>70</td>\n",
       "      <td>70</td>\n",
       "      <td>40</td>\n",
       "      <td>60</td>\n",
       "      <td>40</td>\n",
       "    </tr>\n",
       "    <tr>\n",
       "      <th>524</th>\n",
       "      <td>110</td>\n",
       "      <td>130</td>\n",
       "      <td>80</td>\n",
       "      <td>70</td>\n",
       "      <td>60</td>\n",
       "    </tr>\n",
       "    <tr>\n",
       "      <th>229</th>\n",
       "      <td>70</td>\n",
       "      <td>150</td>\n",
       "      <td>140</td>\n",
       "      <td>65</td>\n",
       "      <td>100</td>\n",
       "    </tr>\n",
       "    <tr>\n",
       "      <th>409</th>\n",
       "      <td>95</td>\n",
       "      <td>145</td>\n",
       "      <td>130</td>\n",
       "      <td>120</td>\n",
       "      <td>90</td>\n",
       "    </tr>\n",
       "    <tr>\n",
       "      <th>390</th>\n",
       "      <td>99</td>\n",
       "      <td>68</td>\n",
       "      <td>83</td>\n",
       "      <td>72</td>\n",
       "      <td>87</td>\n",
       "    </tr>\n",
       "  </tbody>\n",
       "</table>\n",
       "<p>137 rows × 5 columns</p>\n",
       "</div>"
      ],
      "text/plain": [
       "      HP  Attack  Defense  Sp. Atk  Sp. Def\n",
       "712  125     120       90      170      100\n",
       "704   79     115       70      125       80\n",
       "736   86      68       72      109       66\n",
       "782   54      66       70       44       55\n",
       "730   62      73       55       56       52\n",
       "..   ...     ...      ...      ...      ...\n",
       "297   70      70       40       60       40\n",
       "524  110     130       80       70       60\n",
       "229   70     150      140       65      100\n",
       "409   95     145      130      120       90\n",
       "390   99      68       83       72       87\n",
       "\n",
       "[137 rows x 5 columns]"
      ]
     },
     "execution_count": 109,
     "metadata": {},
     "output_type": "execute_result"
    }
   ],
   "source": [
    "X_test"
   ]
  },
  {
   "cell_type": "code",
   "execution_count": 115,
   "id": "48c62e7e",
   "metadata": {},
   "outputs": [
    {
     "data": {
      "text/html": [
       "<div>\n",
       "<style scoped>\n",
       "    .dataframe tbody tr th:only-of-type {\n",
       "        vertical-align: middle;\n",
       "    }\n",
       "\n",
       "    .dataframe tbody tr th {\n",
       "        vertical-align: top;\n",
       "    }\n",
       "\n",
       "    .dataframe thead th {\n",
       "        text-align: right;\n",
       "    }\n",
       "</style>\n",
       "<table border=\"1\" class=\"dataframe\">\n",
       "  <thead>\n",
       "    <tr style=\"text-align: right;\">\n",
       "      <th></th>\n",
       "      <th>HP</th>\n",
       "      <th>Attack</th>\n",
       "      <th>Defense</th>\n",
       "      <th>Sp. Atk</th>\n",
       "      <th>Sp. Def</th>\n",
       "      <th>tipo</th>\n",
       "    </tr>\n",
       "  </thead>\n",
       "  <tbody>\n",
       "    <tr>\n",
       "      <th>712</th>\n",
       "      <td>125</td>\n",
       "      <td>120</td>\n",
       "      <td>90</td>\n",
       "      <td>170</td>\n",
       "      <td>100</td>\n",
       "      <td>Steel</td>\n",
       "    </tr>\n",
       "    <tr>\n",
       "      <th>704</th>\n",
       "      <td>79</td>\n",
       "      <td>115</td>\n",
       "      <td>70</td>\n",
       "      <td>125</td>\n",
       "      <td>80</td>\n",
       "      <td>Electric</td>\n",
       "    </tr>\n",
       "    <tr>\n",
       "      <th>736</th>\n",
       "      <td>86</td>\n",
       "      <td>68</td>\n",
       "      <td>72</td>\n",
       "      <td>109</td>\n",
       "      <td>66</td>\n",
       "      <td>Grass</td>\n",
       "    </tr>\n",
       "    <tr>\n",
       "      <th>782</th>\n",
       "      <td>54</td>\n",
       "      <td>66</td>\n",
       "      <td>70</td>\n",
       "      <td>44</td>\n",
       "      <td>55</td>\n",
       "      <td>Ghost</td>\n",
       "    </tr>\n",
       "    <tr>\n",
       "      <th>730</th>\n",
       "      <td>62</td>\n",
       "      <td>73</td>\n",
       "      <td>55</td>\n",
       "      <td>56</td>\n",
       "      <td>52</td>\n",
       "      <td>Grass</td>\n",
       "    </tr>\n",
       "    <tr>\n",
       "      <th>...</th>\n",
       "      <td>...</td>\n",
       "      <td>...</td>\n",
       "      <td>...</td>\n",
       "      <td>...</td>\n",
       "      <td>...</td>\n",
       "      <td>...</td>\n",
       "    </tr>\n",
       "    <tr>\n",
       "      <th>297</th>\n",
       "      <td>70</td>\n",
       "      <td>70</td>\n",
       "      <td>40</td>\n",
       "      <td>60</td>\n",
       "      <td>40</td>\n",
       "      <td>Bug</td>\n",
       "    </tr>\n",
       "    <tr>\n",
       "      <th>524</th>\n",
       "      <td>110</td>\n",
       "      <td>130</td>\n",
       "      <td>80</td>\n",
       "      <td>70</td>\n",
       "      <td>60</td>\n",
       "      <td>Normal</td>\n",
       "    </tr>\n",
       "    <tr>\n",
       "      <th>229</th>\n",
       "      <td>70</td>\n",
       "      <td>150</td>\n",
       "      <td>140</td>\n",
       "      <td>65</td>\n",
       "      <td>100</td>\n",
       "      <td>Bug</td>\n",
       "    </tr>\n",
       "    <tr>\n",
       "      <th>409</th>\n",
       "      <td>95</td>\n",
       "      <td>145</td>\n",
       "      <td>130</td>\n",
       "      <td>120</td>\n",
       "      <td>90</td>\n",
       "      <td>Dragon</td>\n",
       "    </tr>\n",
       "    <tr>\n",
       "      <th>390</th>\n",
       "      <td>99</td>\n",
       "      <td>68</td>\n",
       "      <td>83</td>\n",
       "      <td>72</td>\n",
       "      <td>87</td>\n",
       "      <td>Water</td>\n",
       "    </tr>\n",
       "  </tbody>\n",
       "</table>\n",
       "<p>137 rows × 6 columns</p>\n",
       "</div>"
      ],
      "text/plain": [
       "      HP  Attack  Defense  Sp. Atk  Sp. Def      tipo\n",
       "712  125     120       90      170      100     Steel\n",
       "704   79     115       70      125       80  Electric\n",
       "736   86      68       72      109       66     Grass\n",
       "782   54      66       70       44       55     Ghost\n",
       "730   62      73       55       56       52     Grass\n",
       "..   ...     ...      ...      ...      ...       ...\n",
       "297   70      70       40       60       40       Bug\n",
       "524  110     130       80       70       60    Normal\n",
       "229   70     150      140       65      100       Bug\n",
       "409   95     145      130      120       90    Dragon\n",
       "390   99      68       83       72       87     Water\n",
       "\n",
       "[137 rows x 6 columns]"
      ]
     },
     "execution_count": 115,
     "metadata": {},
     "output_type": "execute_result"
    }
   ],
   "source": [
    "previsoes_df = pd.DataFrame(previsoes,columns=['tipo'])\n",
    "recursos_previsoes = pd.concat([X_test,previsoes_df.set_axis(X_test.index)],axis=1)\n",
    "recursos_previsoes"
   ]
  },
  {
   "cell_type": "markdown",
   "id": "38d86bb2",
   "metadata": {},
   "source": [
    "Previsão avulsa"
   ]
  },
  {
   "cell_type": "code",
   "execution_count": 118,
   "id": "e8dafcb3",
   "metadata": {},
   "outputs": [
    {
     "name": "stderr",
     "output_type": "stream",
     "text": [
      "C:\\ProgramData\\programa_anaconda3\\Lib\\site-packages\\sklearn\\base.py:464: UserWarning: X does not have valid feature names, but DecisionTreeClassifier was fitted with feature names\n",
      "  warnings.warn(\n"
     ]
    },
    {
     "data": {
      "text/plain": [
       "array(['Grass'], dtype=object)"
      ]
     },
     "execution_count": 118,
     "metadata": {},
     "output_type": "execute_result"
    }
   ],
   "source": [
    "# Pokemon_novo\n",
    "pokemon_novo = [[125,100,80,121,100]]\n",
    "clf.predict(pokemon_novo)"
   ]
  },
  {
   "cell_type": "markdown",
   "id": "0d97a155",
   "metadata": {},
   "source": [
    "**4. Avaliação do modelo**"
   ]
  },
  {
   "cell_type": "code",
   "execution_count": 121,
   "id": "443a8758",
   "metadata": {},
   "outputs": [
    {
     "name": "stdout",
     "output_type": "stream",
     "text": [
      "              precision    recall  f1-score   support\n",
      "\n",
      "       Grass       0.28      0.25      0.26        20\n",
      "        Fire       0.00      0.00      0.00         3\n",
      "       Water       0.20      0.20      0.20        10\n",
      "         Bug       0.62      0.83      0.71         6\n",
      "      Normal       0.00      0.00      0.00         1\n",
      "      Poison       0.00      0.00      0.00         3\n",
      "    Electric       0.00      0.00      0.00        10\n",
      "      Ground       0.00      0.00      0.00         1\n",
      "       Fairy       0.22      0.40      0.29         5\n",
      "    Fighting       0.10      0.08      0.09        12\n",
      "     Psychic       0.00      0.00      0.00         7\n",
      "        Rock       0.00      0.00      0.00         5\n",
      "       Ghost       0.25      0.21      0.23        14\n",
      "         Ice       0.00      0.00      0.00         5\n",
      "      Dragon       0.29      0.33      0.31         6\n",
      "        Dark       0.12      0.07      0.09        14\n",
      "       Steel       0.00      0.00      0.00         4\n",
      "      Flying       0.12      0.18      0.15        11\n",
      "\n",
      "    accuracy                           0.17       137\n",
      "   macro avg       0.12      0.14      0.13       137\n",
      "weighted avg       0.16      0.17      0.16       137\n",
      "\n"
     ]
    },
    {
     "name": "stderr",
     "output_type": "stream",
     "text": [
      "C:\\ProgramData\\programa_anaconda3\\Lib\\site-packages\\sklearn\\metrics\\_classification.py:1469: UndefinedMetricWarning: Precision and F-score are ill-defined and being set to 0.0 in labels with no predicted samples. Use `zero_division` parameter to control this behavior.\n",
      "  _warn_prf(average, modifier, msg_start, len(result))\n",
      "C:\\ProgramData\\programa_anaconda3\\Lib\\site-packages\\sklearn\\metrics\\_classification.py:1469: UndefinedMetricWarning: Precision and F-score are ill-defined and being set to 0.0 in labels with no predicted samples. Use `zero_division` parameter to control this behavior.\n",
      "  _warn_prf(average, modifier, msg_start, len(result))\n",
      "C:\\ProgramData\\programa_anaconda3\\Lib\\site-packages\\sklearn\\metrics\\_classification.py:1469: UndefinedMetricWarning: Precision and F-score are ill-defined and being set to 0.0 in labels with no predicted samples. Use `zero_division` parameter to control this behavior.\n",
      "  _warn_prf(average, modifier, msg_start, len(result))\n"
     ]
    }
   ],
   "source": [
    "target_names = pokemons['Type 1'].unique()\n",
    "print(classification_report(y_test, previsoes, target_names=target_names))"
   ]
  },
  {
   "cell_type": "markdown",
   "id": "c5379f50",
   "metadata": {},
   "source": [
    "**5. Implantação do modelo**"
   ]
  }
 ],
 "metadata": {
  "kernelspec": {
   "display_name": "Python 3 (ipykernel)",
   "language": "python",
   "name": "python3"
  },
  "language_info": {
   "codemirror_mode": {
    "name": "ipython",
    "version": 3
   },
   "file_extension": ".py",
   "mimetype": "text/x-python",
   "name": "python",
   "nbconvert_exporter": "python",
   "pygments_lexer": "ipython3",
   "version": "3.11.5"
  }
 },
 "nbformat": 4,
 "nbformat_minor": 5
}
